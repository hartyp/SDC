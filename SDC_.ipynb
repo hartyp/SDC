{
 "cells": [
  {
   "cell_type": "markdown",
   "metadata": {},
   "source": [
    "# Simulated Autonomous Car\n",
    "Below, you will see the steps undertaken in using behavioural cloning and deep neral networks in developing an autonous car in a simulated environment using Udacity's simulator."
   ]
  },
  {
   "cell_type": "code",
   "execution_count": 75,
   "metadata": {
    "collapsed": true
   },
   "outputs": [],
   "source": [
    "#imports\n",
    "import numpy as np\n",
    "import random\n",
    "import pandas as pds\n",
    "import os\n",
    "import math\n",
    "import cv2\n",
    "import matplotlib.pyplot as mpPlot\n",
    "import matplotlib.image as mpImage\n",
    "%matplotlib inline"
   ]
  },
  {
   "cell_type": "markdown",
   "metadata": {},
   "source": [
    "# Fetching Collected Data\n",
    "I drove the car around the simulator tracks in order to collect data for the behavioural cloning. To ensure a diverse dataset, I drove the car in different directions to avoid collecting biased data from a track that may have, for example, more right turns than left turns."
   ]
  },
  {
   "cell_type": "code",
   "execution_count": 76,
   "metadata": {
    "collapsed": true
   },
   "outputs": [],
   "source": [
    "logPath = ['Jungle Track', 'Normal Track']\n",
    "\n",
    "columns = ['centre view', 'left view', 'right view', 'steering', 'accelerator', 'brake', 'speed']\n",
    "\n",
    "def parse_logs(logPath):\n",
    "    '''\n",
    "    Parse the driving logs, customise the image paths and concatenate all the logs in a single Pandas\n",
    "    DataFrame\n",
    "    :params logPath: List of all the driving log paths\n",
    "    :return: Pandas DataFrame\n",
    "    '''\n",
    "    frames = []\n",
    "    for i, logPath in enumerate(logPath):\n",
    "        df = pds.read_csv(logPath + '/driving_log.csv')\n",
    "        df.columns = columns\n",
    "        for column in columns[:3]:\n",
    "            df[column] = df[column].apply(lambda x: '/'.join(x.split('/')[-3:]))\n",
    "\n",
    "        frames.append(df)\n",
    "    return pds.concat(frames, ignore_index=True)\n",
    "\n",
    "df = parse_logs(logPath)\n",
    "image = cv2.imread(df.loc[0]['centre view'].strip())\n",
    "\n"
   ]
  },
  {
   "cell_type": "markdown",
   "metadata": {},
   "source": [
    "# Summarise the Data\n",
    "Below we will look at various aspects relating to our collected data"
   ]
  },
  {
   "cell_type": "code",
   "execution_count": 77,
   "metadata": {
    "scrolled": false
   },
   "outputs": [
    {
     "name": "stdout",
     "output_type": "stream",
     "text": [
      "                                                             Jungle Track      Normal Track      Total\n",
      "\n",
      "\n",
      "Number of scene frames:                                      9458              9473              18931\n",
      "\n",
      "Total frames (including the Left/Right perspectives):        28374             28419             56793\n",
      "\n",
      "\n",
      "\n",
      "Image shape: (160, 320, 3)\n",
      "\n"
     ]
    }
   ],
   "source": [
    "# Data set summarisation\n",
    "print('                                                             Jungle Track      Normal Track      Total\\n\\n')\n",
    "dfs = pds.read_csv('Jungle Track/driving_log.csv')\n",
    "dfs1 = pds.read_csv('Normal Track/driving_log.csv')\n",
    "print('Number of scene frames:                                      {}'.format(len(dfs))\n",
    "      +'              {}'.format(len(dfs1))\n",
    "      +'              {}'.format(len(df)))\n",
    "\n",
    "print('\\nTotal frames (including the Left/Right perspectives):        {}'.format(len(dfs) * 3)\n",
    "      +'             {}'.format(len(dfs1) * 3)\n",
    "      +'             {}'.format(len(df) * 3))\n",
    "\n",
    "print('\\n\\n\\nImage shape: {}\\n'.format(image.shape))\n"
   ]
  },
  {
   "cell_type": "markdown",
   "metadata": {},
   "source": [
    "# Visualise the Data\n",
    "Below gives a distribution of the steering angles recorded in the data.\n"
   ]
  },
  {
   "cell_type": "code",
   "execution_count": 78,
   "metadata": {},
   "outputs": [
    {
     "name": "stdout",
     "output_type": "stream",
     "text": [
      "Average number samples/bin: 371.19607843137254\n",
      "Threshold 445\n"
     ]
    },
    {
     "data": {
      "image/png": "[encoded data removed]",
      "text/plain": [
       "<matplotlib.figure.Figure at 0x27c90640588>"
      ]
     },
     "metadata": {},
     "output_type": "display_data"
    }
   ],
   "source": [
    "\n",
    "# Steering angle distribution graph \n",
    "histogram, bins = np.histogram(df.steering, 51)\n",
    "center = (bins[:-1] + bins[1:])/2\n",
    "\n",
    "mpPlot.figure(figsize=(10,7))\n",
    "mpPlot.bar(center, histogram, align='center', width=(bins[0] - bins[1])*0.8, log=True, fc='y', color='g')\n",
    "mpPlot.title('Steering Angle Distribution')\n",
    "mpPlot.ylabel('Number of Samples (Log Scale)')\n",
    "mpPlot.xlabel('steering')\n",
    "meanNumSamples = len(df['steering']) / 51\n",
    "threshold = int(meanNumSamples * 1.2)\n",
    "mpPlot.plot((df['steering'].min(), df['steering'].max()), (threshold, threshold), 'k-')\n",
    "\n",
    "print('Average number samples/bin: {}'.format(meanNumSamples))\n",
    "print('Threshold {}'.format(threshold))"
   ]
  },
  {
   "cell_type": "markdown",
   "metadata": {},
   "source": [
    "This data is insufficient as it contains far more data towards the centre of the distribution, which will lead to bias and less diversity when training the neural network. In order to provide better learning data, the data must be 'cleaned', meaning deleting data above a certain threshold (marked in the distribution above), in order to bring about a more balanced and accurate dataset."
   ]
  },
  {
   "cell_type": "code",
   "execution_count": 79,
   "metadata": {},
   "outputs": [
    {
     "ename": "ValueError",
     "evalue": "labels [-397 -375 -376 -379 -364 -350 -350 -348 -329 -326 -296 -309 -296 -318 -259\n -259 -272 -240 -204 -256 -237 -232 -265 -281  -30 -180 -172 -215 -168 -193\n -182 -259 -205 -273 -309 -316 -325 -352 -354 -361 -353 -369 -392 -386 -404\n -365 -416] not contained in axis",
     "output_type": "error",
     "traceback": [
      "\u001b[1;31m---------------------------------------------------------------------------\u001b[0m",
      "\u001b[1;31mValueError\u001b[0m                                Traceback (most recent call last)",
      "\u001b[1;32m<ipython-input-79-c544811f4f49>\u001b[0m in \u001b[0;36m<module>\u001b[1;34m()\u001b[0m\n\u001b[0;32m      1\u001b[0m \u001b[1;31m#Cleaning up the data\u001b[0m\u001b[1;33m\u001b[0m\u001b[1;33m\u001b[0m\u001b[0m\n\u001b[0;32m      2\u001b[0m \u001b[0mexcessData\u001b[0m \u001b[1;33m=\u001b[0m \u001b[0mhistogram\u001b[0m \u001b[1;33m-\u001b[0m \u001b[0mthreshold\u001b[0m\u001b[1;33m\u001b[0m\u001b[0m\n\u001b[1;32m----> 3\u001b[1;33m \u001b[0mdf\u001b[0m \u001b[1;33m=\u001b[0m \u001b[0mdf\u001b[0m\u001b[1;33m.\u001b[0m\u001b[0mdrop\u001b[0m\u001b[1;33m(\u001b[0m\u001b[0mexcessData\u001b[0m\u001b[1;33m)\u001b[0m\u001b[1;33m.\u001b[0m\u001b[0mreset_index\u001b[0m\u001b[1;33m(\u001b[0m\u001b[0mdrop\u001b[0m\u001b[1;33m=\u001b[0m\u001b[1;32mTrue\u001b[0m\u001b[1;33m)\u001b[0m\u001b[1;33m\u001b[0m\u001b[0m\n\u001b[0m\u001b[0;32m      4\u001b[0m \u001b[0mmpPlot\u001b[0m\u001b[1;33m.\u001b[0m\u001b[0mhist\u001b[0m\u001b[1;33m(\u001b[0m\u001b[0mdf\u001b[0m\u001b[1;33m,\u001b[0m \u001b[1;36m51\u001b[0m\u001b[1;33m,\u001b[0m \u001b[0mrwidth\u001b[0m\u001b[1;33m=\u001b[0m\u001b[1;36m0.8\u001b[0m\u001b[1;33m,\u001b[0m \u001b[0malign\u001b[0m\u001b[1;33m=\u001b[0m\u001b[1;34m'mid'\u001b[0m\u001b[1;33m,\u001b[0m \u001b[0mhisttype\u001b[0m\u001b[1;33m=\u001b[0m\u001b[1;34m'bar'\u001b[0m\u001b[1;33m,\u001b[0m \u001b[0mlog\u001b[0m\u001b[1;33m=\u001b[0m\u001b[1;32mTrue\u001b[0m\u001b[1;33m)\u001b[0m\u001b[1;33m\u001b[0m\u001b[0m\n\u001b[0;32m      5\u001b[0m \u001b[0mmpPlot\u001b[0m\u001b[1;33m.\u001b[0m\u001b[0mtitle\u001b[0m\u001b[1;33m(\u001b[0m\u001b[1;34m'Steering angle dist (post cleanup)'\u001b[0m\u001b[1;33m)\u001b[0m\u001b[1;33m\u001b[0m\u001b[0m\n",
      "\u001b[1;32m~\\Anaconda3\\lib\\site-packages\\pandas\\core\\generic.py\u001b[0m in \u001b[0;36mdrop\u001b[1;34m(self, labels, axis, level, inplace, errors)\u001b[0m\n\u001b[0;32m   2159\u001b[0m                 \u001b[0mnew_axis\u001b[0m \u001b[1;33m=\u001b[0m \u001b[0maxis\u001b[0m\u001b[1;33m.\u001b[0m\u001b[0mdrop\u001b[0m\u001b[1;33m(\u001b[0m\u001b[0mlabels\u001b[0m\u001b[1;33m,\u001b[0m \u001b[0mlevel\u001b[0m\u001b[1;33m=\u001b[0m\u001b[0mlevel\u001b[0m\u001b[1;33m,\u001b[0m \u001b[0merrors\u001b[0m\u001b[1;33m=\u001b[0m\u001b[0merrors\u001b[0m\u001b[1;33m)\u001b[0m\u001b[1;33m\u001b[0m\u001b[0m\n\u001b[0;32m   2160\u001b[0m             \u001b[1;32melse\u001b[0m\u001b[1;33m:\u001b[0m\u001b[1;33m\u001b[0m\u001b[0m\n\u001b[1;32m-> 2161\u001b[1;33m                 \u001b[0mnew_axis\u001b[0m \u001b[1;33m=\u001b[0m \u001b[0maxis\u001b[0m\u001b[1;33m.\u001b[0m\u001b[0mdrop\u001b[0m\u001b[1;33m(\u001b[0m\u001b[0mlabels\u001b[0m\u001b[1;33m,\u001b[0m \u001b[0merrors\u001b[0m\u001b[1;33m=\u001b[0m\u001b[0merrors\u001b[0m\u001b[1;33m)\u001b[0m\u001b[1;33m\u001b[0m\u001b[0m\n\u001b[0m\u001b[0;32m   2162\u001b[0m             \u001b[0mdropped\u001b[0m \u001b[1;33m=\u001b[0m \u001b[0mself\u001b[0m\u001b[1;33m.\u001b[0m\u001b[0mreindex\u001b[0m\u001b[1;33m(\u001b[0m\u001b[1;33m**\u001b[0m\u001b[1;33m{\u001b[0m\u001b[0maxis_name\u001b[0m\u001b[1;33m:\u001b[0m \u001b[0mnew_axis\u001b[0m\u001b[1;33m}\u001b[0m\u001b[1;33m)\u001b[0m\u001b[1;33m\u001b[0m\u001b[0m\n\u001b[0;32m   2163\u001b[0m             \u001b[1;32mtry\u001b[0m\u001b[1;33m:\u001b[0m\u001b[1;33m\u001b[0m\u001b[0m\n",
      "\u001b[1;32m~\\Anaconda3\\lib\\site-packages\\pandas\\core\\indexes\\base.py\u001b[0m in \u001b[0;36mdrop\u001b[1;34m(self, labels, errors)\u001b[0m\n\u001b[0;32m   3622\u001b[0m             \u001b[1;32mif\u001b[0m \u001b[0merrors\u001b[0m \u001b[1;33m!=\u001b[0m \u001b[1;34m'ignore'\u001b[0m\u001b[1;33m:\u001b[0m\u001b[1;33m\u001b[0m\u001b[0m\n\u001b[0;32m   3623\u001b[0m                 raise ValueError('labels %s not contained in axis' %\n\u001b[1;32m-> 3624\u001b[1;33m                                  labels[mask])\n\u001b[0m\u001b[0;32m   3625\u001b[0m             \u001b[0mindexer\u001b[0m \u001b[1;33m=\u001b[0m \u001b[0mindexer\u001b[0m\u001b[1;33m[\u001b[0m\u001b[1;33m~\u001b[0m\u001b[0mmask\u001b[0m\u001b[1;33m]\u001b[0m\u001b[1;33m\u001b[0m\u001b[0m\n\u001b[0;32m   3626\u001b[0m         \u001b[1;32mreturn\u001b[0m \u001b[0mself\u001b[0m\u001b[1;33m.\u001b[0m\u001b[0mdelete\u001b[0m\u001b[1;33m(\u001b[0m\u001b[0mindexer\u001b[0m\u001b[1;33m)\u001b[0m\u001b[1;33m\u001b[0m\u001b[0m\n",
      "\u001b[1;31mValueError\u001b[0m: labels [-397 -375 -376 -379 -364 -350 -350 -348 -329 -326 -296 -309 -296 -318 -259\n -259 -272 -240 -204 -256 -237 -232 -265 -281  -30 -180 -172 -215 -168 -193\n -182 -259 -205 -273 -309 -316 -325 -352 -354 -361 -353 -369 -392 -386 -404\n -365 -416] not contained in axis"
     ]
    }
   ],
   "source": [
    "#Cleaning up the data\n",
    "excessData = histogram - threshold\n",
    "df = df.drop(excessData).reset_index(drop=True)\n",
    "mpPlot.hist(df, 51, rwidth=0.8, align='mid', histtype='bar', log=True)\n",
    "mpPlot.title('Steering angle dist (post cleanup)')\n",
    "mpPlot.ylabel('# samples (Log scale)')\n",
    "mpPlot.xlabel('steering angle')"
   ]
  }
 ],
 "metadata": {
  "kernelspec": {
   "display_name": "Python 3",
   "language": "python",
   "name": "python3"
  },
  "language_info": {
   "codemirror_mode": {
    "name": "ipython",
    "version": 3
   },
   "file_extension": ".py",
   "mimetype": "text/x-python",
   "name": "python",
   "nbconvert_exporter": "python",
   "pygments_lexer": "ipython3",
   "version": "3.6.3"
  }
 },
 "nbformat": 4,
 "nbformat_minor": 2
}
